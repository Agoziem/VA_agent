{
 "cells": [
  {
   "cell_type": "code",
   "execution_count": 1,
   "id": "c6659fd2",
   "metadata": {},
   "outputs": [
    {
     "data": {
      "text/plain": [
       "True"
      ]
     },
     "execution_count": 1,
     "metadata": {},
     "output_type": "execute_result"
    }
   ],
   "source": [
    "# Use server from examples/servers/streamable-http-stateless/\n",
    "from dotenv import load_dotenv\n",
    "from langgraph.checkpoint.memory import MemorySaver\n",
    "from langgraph.prebuilt import create_react_agent\n",
    "from langchain_core.messages import HumanMessage\n",
    "from langchain_core.runnables import RunnableConfig\n",
    "from langchain_mcp_adapters.client import MultiServerMCPClient\n",
    "\n",
    "load_dotenv()"
   ]
  },
  {
   "cell_type": "code",
   "execution_count": 11,
   "id": "6dd0fcbd",
   "metadata": {},
   "outputs": [],
   "source": [
    "# pyright: strict = false\n",
    "# type: ignore\n",
    "async def call_todo_agent(config: RunnableConfig, memory: MemorySaver) -> None:\n",
    "    \"\"\"Run a class todo agent using the react agent framework and a remote MCP server.\"\"\"\n",
    "    client = MultiServerMCPClient({\n",
    "        \"fastapi-mcp\": {\n",
    "            \"url\": \"http://localhost:8000/mcp\",\n",
    "            \"transport\": \"sse\",\n",
    "        }\n",
    "    })\n",
    "    remote_tools = await client.get_tools()\n",
    "    graph = create_react_agent(\n",
    "        \"groq:llama-3.3-70b-versatile\", tools=remote_tools, checkpointer=memory)\n",
    "\n",
    "    # Create event stream\n",
    "    events = graph.astream_events({\n",
    "        \"messages\": [\n",
    "            HumanMessage(\n",
    "                content=\"show me my completed todos\",\n",
    "            ),\n",
    "        ]\n",
    "    }, config=config, version=\"v2\")\n",
    "\n",
    "    # Handle stream output\n",
    "    async for event in events:\n",
    "        if event[\"event\"] == \"on_chat_model_stream\":\n",
    "            if \"chunk\" in event[\"data\"]:\n",
    "                print(event[\"data\"][\"chunk\"].content, end=\"\", flush=True)"
   ]
  },
  {
   "cell_type": "code",
   "execution_count": 12,
   "id": "d20436fb",
   "metadata": {},
   "outputs": [],
   "source": [
    "shared_memory = MemorySaver()\n",
    " # Define thread config\n",
    "thread_config = RunnableConfig(\n",
    "    {\"configurable\": {\n",
    "        \"thread_id\": 19,\n",
    "    }}\n",
    ")\n",
    "\n",
    "await call_todo_agent(config=thread_config, memory=shared_memory)"
   ]
  },
  {
   "cell_type": "markdown",
   "metadata": {},
   "source": []
  }
 ],
 "metadata": {
  "kernelspec": {
   "display_name": "backend",
   "language": "python",
   "name": "python3"
  },
  "language_info": {
   "codemirror_mode": {
    "name": "ipython",
    "version": 3
   },
   "file_extension": ".py",
   "mimetype": "text/x-python",
   "name": "python",
   "nbconvert_exporter": "python",
   "pygments_lexer": "ipython3",
   "version": "3.12.3"
  }
 },
 "nbformat": 4,
 "nbformat_minor": 5
}
