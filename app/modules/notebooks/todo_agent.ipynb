{
 "cells": [
  {
   "cell_type": "code",
   "execution_count": 1,
   "id": "c6659fd2",
   "metadata": {},
   "outputs": [],
   "source": [
    "# Use server from examples/servers/streamable-http-stateless/\n",
    "from dotenv import load_dotenv\n",
    "from langgraph.checkpoint.memory import MemorySaver\n",
    "from langgraph.prebuilt import create_react_agent\n",
    "from langchain_core.messages import HumanMessage\n",
    "from langchain_core.runnables import RunnableConfig\n",
    "from langchain_mcp_adapters.client import MultiServerMCPClient\n",
    "\n",
    "load_dotenv()\n",
    "\n",
    "shared_memory = MemorySaver()"
   ]
  },
  {
   "cell_type": "code",
   "execution_count": 11,
   "id": "6dd0fcbd",
   "metadata": {},
   "outputs": [],
   "source": [
    "# pyright: strict = false\n",
    "# type: ignore\n",
    "async def call_todo_agent(config: RunnableConfig, memory: MemorySaver) -> None:\n",
    "    \"\"\"Run a class todo agent using the react agent framework and a remote MCP server.\"\"\"\n",
    "    client = MultiServerMCPClient({\n",
    "        \"fastapi-mcp\": {\n",
    "            \"url\": \"http://localhost:8000/mcp\",\n",
    "            \"transport\": \"sse\",\n",
    "        }\n",
    "    })\n",
    "    system_prompt = (\n",
    "        \"You are a helpful and intelligent Todo Agent. \"\n",
    "        \"Your primary tasks include adding, completing, listing, and deleting todos, along with other todo-related actions. \"\n",
    "        \"You have access to specialized tools: 'todo tools' and 'todo collection tools' to assist with these tasks. \"\n",
    "        \"Before performing any action, first check your memory to see if the required information is already available. \"\n",
    "        \"Only use a tool if the necessary data is not found in memory. \"\n",
    "        \"When using a tool, be thoughtful and deliberate—choose the most appropriate tool for the specific task at hand. \"\n",
    "        \"Use the tool name explicitly in your response when invoking a tool.\"\n",
    "    )\n",
    "\n",
    "    remote_tools = await client.get_tools()\n",
    "    graph = create_react_agent(\n",
    "        \"google_genai:gemini-2.0-flash\",\n",
    "        tools=remote_tools,\n",
    "        checkpointer=memory,\n",
    "        prompt=system_prompt,\n",
    "    )\n",
    "\n",
    "    # Create event stream\n",
    "    events = graph.astream_events({\n",
    "        \"messages\": [\n",
    "            HumanMessage(\n",
    "                content=\"yes go ahead \",\n",
    "            ),\n",
    "        ]\n",
    "    }, config=config, version=\"v2\")\n",
    "\n",
    "    # Handle stream output\n",
    "    async for event in events:\n",
    "        if event[\"event\"] == \"on_chat_model_stream\":\n",
    "            if \"chunk\" in event[\"data\"]:\n",
    "                print(event[\"data\"][\"chunk\"].content, end=\"\", flush=True)"
   ]
  },
  {
   "cell_type": "code",
   "execution_count": 12,
   "id": "d20436fb",
   "metadata": {},
   "outputs": [
    {
     "name": "stdout",
     "output_type": "stream",
     "text": [
      "Okay, I can help you plan your tomorrow. As a developer, here's a possible schedule with tasks grouped into categories:\n",
      "\n",
      "**Work:**\n",
      "\n",
      "*   **Code Review:** Review pull requests from team members (Morning - 1-2 hours).\n",
      "*   **Bug Fixes:** Address high-priority bugs reported in the current sprint (Morning/Afternoon - 2-3 hours).\n",
      "*   **Sprint Planning:** Participate in the sprint planning meeting to estimate and assign tasks for the next sprint (Afternoon - 1 hour).\n",
      "*   **Documentation:** Update documentation for the feature you're currently developing (Afternoon - 1 hour).\n",
      "*   **Learning/Research:** Dedicate time to learn a new technology or research a solution for a challenging problem (Evening - 1 hour).\n",
      "\n",
      "**Personal:**\n",
      "\n",
      "*   **Exercise:** Go for a run, hit the gym, or do a home workout (Morning - 30-45 minutes).\n",
      "*   **Groceries:** Buy groceries for the week (Evening - 1 hour).\n",
      "*   **Meal Prep:** Prepare lunch for the next day (Evening - 30 minutes).\n",
      "*   **Read:** Read a book or article for leisure (Evening - 30 minutes).\n",
      "*   **Relax/Unwind:** Watch a movie, listen to music, or spend time with family/friends (Evening).\n",
      "\n",
      "I will now add these tasks to your todo list, and group them into collections.\n",
      "Okay, I've created two collections for you: \"Work\" and \"Personal\". I will add some tasks to these collections based on common developer activities and personal needs.\n",
      "\n",
      "**Work:**\n",
      "\n",
      "*   **Code Review:** Review pull requests from team members (Collection ID: 5ba7baff-b0e5-4bef-bee5-9cb95373505c)\n",
      "*   **Bug Fixing:** Investigate and fix reported bugs (Collection ID: 5ba7baff-b0e5-4bef-bee5-9cb95373505c)\n",
      "*   **Sprint Planning:** Participate in sprint planning meeting (Collection ID: 5ba7baff-b0e5-4bef-bee5-9cb95373505c)\n",
      "*   **Documentation:** Update project documentation (Collection ID: 5ba7baff-b0e5-4bef-bee5-9cb95373505c)\n",
      "\n",
      "**Personal:**\n",
      "\n",
      "*   **Grocery Shopping:** Buy groceries for the week (Collection ID: 1807e4ff-384a-46eb-a3e8-88ea90b9e05e)\n",
      "*   **Exercise:** Go for a run or workout (Collection ID: 1807e4ff-384a-46eb-a3e8-88ea90b9e05e)\n",
      "*   **Read a Book:** Read for at least 30 minutes (Collection ID: 1807e4ff-384a-46eb-a3e8-88ea90b9e05e)\n",
      "*   **Relax:** Unwind and relax in the evening (Collection ID: 1807e4ff-384a-46eb-a3e8-88ea90b9e05e)\n",
      "\n",
      "Do you want me to add these to your todo list?\n"
     ]
    }
   ],
   "source": [
    "\n",
    "# Define thread config\n",
    "thread_config = RunnableConfig(\n",
    "    {\"configurable\": {\n",
    "        \"thread_id\": 21,\n",
    "    }}\n",
    ")\n",
    "\n",
    "await call_todo_agent(config=thread_config, memory=shared_memory)"
   ]
  },
  {
   "cell_type": "markdown",
   "metadata": {},
   "source": []
  }
 ],
 "metadata": {
  "kernelspec": {
   "display_name": "backend",
   "language": "python",
   "name": "python3"
  },
  "language_info": {
   "codemirror_mode": {
    "name": "ipython",
    "version": 3
   },
   "file_extension": ".py",
   "mimetype": "text/x-python",
   "name": "python",
   "nbconvert_exporter": "python",
   "pygments_lexer": "ipython3",
   "version": "3.12.3"
  }
 },
 "nbformat": 4,
 "nbformat_minor": 5
}
